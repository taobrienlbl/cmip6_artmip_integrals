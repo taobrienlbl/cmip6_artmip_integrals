{
 "cells": [
  {
   "cell_type": "markdown",
   "metadata": {},
   "source": [
    "This notebook details how to accurately and simply calculate vertical integrals in hybrid and sigma coordinates. \n",
    "\n",
    "$$ F = \\int\\limits_0^\\infty \\rho f(z) dz $$\n",
    "\n",
    "\n",
    "$$ \\frac{dp}{dz} = - \\rho g $$\n",
    "\n",
    "$$ \\sigma = \\frac{p - p_{top}}{p_s - p_{top}} $$\n",
    "\n",
    "$$ p = (p_s - p_{top}) \\sigma + p_{top} $$\n",
    "\n",
    "$$ p = a p_0 + b p_s $$"
   ]
  },
  {
   "cell_type": "markdown",
   "metadata": {},
   "source": [
    "$$ \\frac{dz}{d \\sigma} = \\frac{dz}{dp} \\frac{dp}{d \\sigma} = -\\frac{p_s - p_{top}}{\\rho g} $$"
   ]
  },
  {
   "cell_type": "markdown",
   "metadata": {},
   "source": [
    "$$ dp = p_0 da + p_s db $$\n",
    "\n",
    "$$ dp = (p_s - p_{top}) d\\sigma$$"
   ]
  }
 ],
 "metadata": {
  "kernelspec": {
   "display_name": "climate-notebook",
   "language": "python",
   "name": "climate-notebook"
  },
  "language_info": {
   "codemirror_mode": {
    "name": "ipython",
    "version": 3
   },
   "file_extension": ".py",
   "mimetype": "text/x-python",
   "name": "python",
   "nbconvert_exporter": "python",
   "pygments_lexer": "ipython3",
   "version": "3.6.7"
  }
 },
 "nbformat": 4,
 "nbformat_minor": 4
}
